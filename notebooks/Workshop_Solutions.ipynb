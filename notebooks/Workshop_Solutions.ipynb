{
 "cells": [
  {
   "cell_type": "markdown",
   "metadata": {
    "slideshow": {
     "slide_type": "slide"
    }
   },
   "source": [
    "# Data exploration and preparation for Machine Learning"
   ]
  },
  {
   "cell_type": "markdown",
   "metadata": {
    "slideshow": {
     "slide_type": "slide"
    }
   },
   "source": [
    "## Hands on case study\n",
    "Explore Hamburg data to ...\n",
    "@TODO Jan"
   ]
  },
  {
   "cell_type": "markdown",
   "metadata": {
    "slideshow": {
     "slide_type": "subslide"
    }
   },
   "source": [
    "### Useful shortcuts in Jupyter\n",
    "(for Vimium users: exclude http://localhost:8888/* in the options)\n",
    "  - run current cell \n",
    "    - `shift + Enter`\n",
    "  - go into cell to modify \n",
    "    - `Enter` (the frame around cell becomes **green**)\n",
    "  - deselect cell\n",
    "    - `Esc` (the frame around cell becomes **blue**)\n",
    "  - new cell **above** current cell \n",
    "    - `Esc` to deselect followed by `A`\n",
    "  - new cell **below** current cell\n",
    "    - `Esc` to deselect followed by `B`"
   ]
  },
  {
   "cell_type": "markdown",
   "metadata": {
    "slideshow": {
     "slide_type": "subslide"
    }
   },
   "source": [
    "## Introduce dataset\n",
    "- Booking Requests in Hamburg without rehails from \\[2018-11-10 -- 2019-11-11 \\[\n",
    "- goal is to find pattern\n",
    "  - `booking_id` index column\n",
    "  - `date_created` \n",
    "  - `origin_lat`\n",
    "  - `origin_lon`"
   ]
  },
  {
   "cell_type": "markdown",
   "metadata": {
    "slideshow": {
     "slide_type": "subslide"
    }
   },
   "source": [
    "## Let's get started"
   ]
  },
  {
   "cell_type": "code",
   "execution_count": null,
   "metadata": {
    "slideshow": {
     "slide_type": "skip"
    }
   },
   "outputs": [],
   "source": [
    "import numpy as np\n",
    "import pandas as pd\n",
    "import matplotlib as mpl\n",
    "import matplotlib.pyplot as plt\n",
    "from matplotlib.ticker import MultipleLocator, FormatStrFormatter\n",
    "import seaborn as sns\n",
    "\n",
    "from plotting import plot_boxplot"
   ]
  },
  {
   "cell_type": "code",
   "execution_count": null,
   "metadata": {
    "slideshow": {
     "slide_type": "skip"
    }
   },
   "outputs": [],
   "source": [
    "# increase the font size of the plots\n",
    "FONT_SIZE = 14\n",
    "mpl.rcParams['xtick.labelsize'] = FONT_SIZE \n",
    "mpl.rcParams['ytick.labelsize'] = FONT_SIZE\n",
    "mpl.rcParams['legend.fontsize'] = FONT_SIZE\n",
    "mpl.rcParams['axes.labelsize'] = FONT_SIZE\n",
    "mpl.rcParams['figure.figsize'] = (10, 10)"
   ]
  },
  {
   "cell_type": "code",
   "execution_count": null,
   "metadata": {},
   "outputs": [],
   "source": [
    "file_path = '../data/hamburg_data.csv'\n",
    "index_col = 'booking_id'\n",
    "date_columns = ['date_created']\n",
    "delimiter = ';'"
   ]
  },
  {
   "cell_type": "code",
   "execution_count": null,
   "metadata": {
    "slideshow": {
     "slide_type": "subslide"
    }
   },
   "outputs": [],
   "source": [
    "df = pd.read_csv(file_path, index_col=index_col, parse_dates=date_columns, sep=delimiter)\n",
    "df.head()"
   ]
  },
  {
   "cell_type": "markdown",
   "metadata": {
    "slideshow": {
     "slide_type": "slide"
    }
   },
   "source": [
    "## TASK 1 - Exploring column values\n",
    "- How are the values in each column distributed?\n",
    "- Which columns include missing values?\n",
    "- Did you find any outliers? Filter them out."
   ]
  },
  {
   "cell_type": "code",
   "execution_count": null,
   "metadata": {
    "slideshow": {
     "slide_type": "-"
    }
   },
   "outputs": [],
   "source": [
    "df.describe(percentiles=[0.1, 0.25, 0.75, 0.9])"
   ]
  },
  {
   "cell_type": "code",
   "execution_count": null,
   "metadata": {},
   "outputs": [],
   "source": [
    "df.isna().sum()"
   ]
  },
  {
   "cell_type": "code",
   "execution_count": null,
   "metadata": {
    "scrolled": false
   },
   "outputs": [],
   "source": [
    "plot_boxplot(df,1,2)"
   ]
  },
  {
   "cell_type": "markdown",
   "metadata": {},
   "source": [
    "### Discuss:\n",
    "- What can you see here?\n",
    "- Do we have outliers and unclean data?\n",
    "- Why are not all columns shown?\n",
    "- What does `counts` and `mean` mean?"
   ]
  },
  {
   "cell_type": "code",
   "execution_count": null,
   "metadata": {},
   "outputs": [],
   "source": [
    "fig = plt.figure(figsize=(16, 12))\n",
    "ax = fig.gca()\n",
    "s = ax.scatter(df['origin_lon'], df['origin_lat'], marker='.')\n",
    "ax.set_title('pickup locations', fontsize=20)\n",
    "ax.set_xlabel('longitude')\n",
    "ax.set_ylabel('latitude')\n",
    "ax.xaxis.set_major_locator(MultipleLocator(0.2))\n",
    "ax.yaxis.set_major_locator(MultipleLocator(0.2))\n",
    "ax.grid()\n",
    "fig.colorbar(s);"
   ]
  },
  {
   "cell_type": "markdown",
   "metadata": {},
   "source": [
    "## Discuss:\n",
    "- is the density ok?\n",
    "- Can you spot the Alster or Elbe? TODO"
   ]
  },
  {
   "cell_type": "markdown",
   "metadata": {
    "slideshow": {
     "slide_type": "slide"
    }
   },
   "source": [
    "## TASK 2 - EDA (Exploratory Data Analysis)"
   ]
  },
  {
   "cell_type": "code",
   "execution_count": null,
   "metadata": {
    "slideshow": {
     "slide_type": "subslide"
    }
   },
   "outputs": [],
   "source": [
    "df['year'] = df['date_created'].dt.year\n",
    "df['month'] = df['date_created'].dt.month\n",
    "df['day'] = df['date_created'].dt.day\n",
    "df['doy'] = df['date_created'].dt.dayofyear\n",
    "df['hour'] = df['date_created'].dt.hour\n",
    "df['minute'] = df['date_created'].dt.minute\n",
    "df['second'] = df['date_created'].dt.second"
   ]
  },
  {
   "cell_type": "code",
   "execution_count": null,
   "metadata": {},
   "outputs": [],
   "source": [
    "# Select data from df\n",
    "count_per_day = df['doy'].value_counts()\n",
    "sns.lineplot(count_per_day.index, count_per_day.values, alpha=0.8)\n",
    "# add a title and label\n",
    "plt.title('Rides per day of year')\n",
    "plt.ylabel('Tours', fontsize=12)\n",
    "plt.xlabel('dayof year', fontsize=12)"
   ]
  },
  {
   "cell_type": "markdown",
   "metadata": {
    "slideshow": {
     "slide_type": "subslide"
    }
   },
   "source": [
    "### Discuss:\n",
    "- Patterns?\n",
    "- ..."
   ]
  },
  {
   "cell_type": "code",
   "execution_count": null,
   "metadata": {},
   "outputs": [],
   "source": []
  },
  {
   "cell_type": "markdown",
   "metadata": {},
   "source": [
    "## TASK 3 - Feature Engineering"
   ]
  },
  {
   "cell_type": "code",
   "execution_count": null,
   "metadata": {},
   "outputs": [],
   "source": []
  },
  {
   "cell_type": "code",
   "execution_count": null,
   "metadata": {},
   "outputs": [],
   "source": []
  },
  {
   "cell_type": "markdown",
   "metadata": {},
   "source": [
    "## TASK 4 - Predict and evaluate"
   ]
  },
  {
   "cell_type": "code",
   "execution_count": null,
   "metadata": {},
   "outputs": [],
   "source": []
  },
  {
   "cell_type": "code",
   "execution_count": null,
   "metadata": {},
   "outputs": [],
   "source": []
  }
 ],
 "metadata": {
  "colab": {
   "default_view": {},
   "name": "NYC Trips.ipynb",
   "provenance": [],
   "version": "0.3.2",
   "views": {}
  },
  "kernelspec": {
   "display_name": "Python 3",
   "language": "python",
   "name": "python3"
  },
  "language_info": {
   "codemirror_mode": {
    "name": "ipython",
    "version": 3
   },
   "file_extension": ".py",
   "mimetype": "text/x-python",
   "name": "python",
   "nbconvert_exporter": "python",
   "pygments_lexer": "ipython3",
   "version": "3.6.5"
  }
 },
 "nbformat": 4,
 "nbformat_minor": 1
}
